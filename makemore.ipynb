{
 "cells": [
  {
   "cell_type": "code",
   "execution_count": 108,
   "id": "f095b14d-a51f-45f8-a3f3-096ec617225b",
   "metadata": {},
   "outputs": [],
   "source": [
    "import torch\n",
    "import matplotlib.pyplot as plt\n",
    "import torch.nn.functional as F\n",
    "import random"
   ]
  },
  {
   "cell_type": "code",
   "execution_count": 109,
   "id": "af83a448-b0d6-400c-a0f8-fc8ad6c9b13d",
   "metadata": {},
   "outputs": [],
   "source": [
    "words = open('names.txt', 'r').read().splitlines()\n",
    "chars = sorted(list(set(''.join(words))))\n",
    "stoi = {s:i+1 for i,s in enumerate(chars)}\n",
    "stoi['.'] = 0\n",
    "itos = {s:i for i,s in stoi.items()}\n",
    "vocab_size = len(stoi)"
   ]
  },
  {
   "cell_type": "code",
   "execution_count": 110,
   "id": "23e4a729",
   "metadata": {},
   "outputs": [
    {
     "name": "stdout",
     "output_type": "stream",
     "text": [
      "X_train.shape --> torch.Size([182625, 3]) Y_train.shape --> torch.Size([182625])\n",
      "X_test.shape --> torch.Size([22655, 3]) Y_test.shape --> torch.Size([22655])\n",
      "X_dev.shape --> torch.Size([22866, 3]) Y_dev.shape --> torch.Size([22866])\n"
     ]
    }
   ],
   "source": [
    "# creating the dataset\n",
    "context_len = 3\n",
    "\n",
    "def build_dataset(words):\n",
    "    X, Y = [], []\n",
    "\n",
    "    for w in words:\n",
    "        context = [0] * context_len\n",
    "        for ch in w+'.':\n",
    "            X.append(context)\n",
    "            Y.append(stoi[ch])\n",
    "            context = context[1:] + [stoi[ch]]\n",
    "    X = torch.tensor(X)\n",
    "    Y = torch.tensor(Y)\n",
    "    return X, Y\n",
    "\n",
    "# creating the test/train/validation sets\n",
    "random.seed(42)\n",
    "random.shuffle(words)\n",
    "n1 = int(0.8 * len(words))\n",
    "n2 = int(0.9 * len(words))\n",
    "\n",
    "X_train, Y_train = build_dataset(words[:n1]) # 80% of the data\n",
    "X_test, Y_test = build_dataset(words[n1:n2]) # 10% of the data\n",
    "X_dev, Y_dev = build_dataset(words[n2:]) # 10% of the data\n",
    "\n",
    "def calculate_loss():\n",
    "    return None\n",
    "\n",
    "print('X_train.shape -->', X_train.shape, 'Y_train.shape -->', Y_train.shape)\n",
    "print('X_test.shape -->', X_test.shape, 'Y_test.shape -->', Y_test.shape)\n",
    "print('X_dev.shape -->', X_dev.shape, 'Y_dev.shape -->', Y_dev.shape)\n"
   ]
  },
  {
   "cell_type": "code",
   "execution_count": 111,
   "id": "eafd74d8",
   "metadata": {},
   "outputs": [
    {
     "name": "stdout",
     "output_type": "stream",
     "text": [
      "12097\n"
     ]
    }
   ],
   "source": [
    "# network parameters\n",
    "n_embd = 10\n",
    "n_hidden = 200\n",
    "batch_size = 32\n",
    "g = torch.Generator().manual_seed(2147483647)\n",
    "C = torch.randn(vocab_size, n_embd, generator=g) \n",
    "W1 = torch.randn(n_embd * context_len, n_hidden, generator=g) * (5/3) / ((n_embd * context_len) ** 0.5) # 5/3 since the tanh saturates at 5/3\n",
    "# b1 = torch.randn(n_hidden, generator=g)# * 0.01\n",
    "W2 = torch.randn(n_hidden, vocab_size, generator=g) * 0.01\n",
    "b2 = torch.randn(vocab_size, generator=g) * 0\n",
    "bngain = torch.ones(n_hidden)\n",
    "bnbias = torch.zeros(n_hidden)\n",
    "bnrunning_mean = torch.zeros(n_hidden)\n",
    "bnrunning_std = torch.ones(n_hidden)\n",
    "parameters = [C, W1, W2, b2, bngain, bnbias]\n",
    "print(sum(p.nelement() for p in parameters))\n",
    "for p in parameters:\n",
    "    p.requires_grad = True\n"
   ]
  },
  {
   "cell_type": "code",
   "execution_count": 112,
   "id": "a7a9efc0",
   "metadata": {},
   "outputs": [
    {
     "name": "stdout",
     "output_type": "stream",
     "text": [
      "      0/ 200000: 3.3239\n",
      "  10000/ 200000: 2.0322\n",
      "  20000/ 200000: 2.5675\n",
      "  30000/ 200000: 2.0125\n",
      "  40000/ 200000: 2.2446\n",
      "  50000/ 200000: 1.8897\n",
      "  60000/ 200000: 2.0785\n",
      "  70000/ 200000: 2.3681\n",
      "  80000/ 200000: 2.2918\n",
      "  90000/ 200000: 2.0238\n",
      " 100000/ 200000: 2.3673\n",
      " 110000/ 200000: 2.3132\n",
      " 120000/ 200000: 1.6414\n",
      " 130000/ 200000: 1.9311\n",
      " 140000/ 200000: 2.2231\n",
      " 150000/ 200000: 2.0027\n",
      " 160000/ 200000: 2.0997\n",
      " 170000/ 200000: 2.4949\n",
      " 180000/ 200000: 2.0199\n",
      " 190000/ 200000: 2.1707\n"
     ]
    }
   ],
   "source": [
    "# model\n",
    "max_steps = 200000\n",
    "batch_size = 32\n",
    "lossi = []\n",
    "\n",
    "for i in range(max_steps):\n",
    "    idx = torch.randint(0 ,X_train.shape[0], (batch_size,), generator=g) # (batch_size,)\n",
    "    Xb, Yb = X_train[idx], Y_train[idx] # (batch_size, context_len), (batch_size,)\n",
    "    emb = C[Xb]  # (batch_size, context_len, n_embd)\n",
    "    embcat = emb.view(emb.shape[0], -1) # (batch_size, n_embd * context_len)\n",
    "    hpreact = embcat @ W1# + b1 # (batch_size, n_hidden)\n",
    "    # adding batch normalization\n",
    "    bnmeani = hpreact.mean(dim=0, keepdim=True)\n",
    "    bnstdi = hpreact.std(dim=0, keepdim=True)\n",
    "    hpreact = (hpreact - bnmeani) / bnstdi\n",
    "    with torch.no_grad():\n",
    "        bnrunning_mean = 0.999 * bnrunning_mean + 0.001 * bnmeani\n",
    "        bnrunning_std = 0.999 * bnrunning_std + 0.001 * bnstdi\n",
    "    hpreact = (bngain  * hpreact) + bnbias\n",
    "    h = torch.tanh(hpreact) # (batch_size, n_hidden)\n",
    "    logits = h @ W2 + b2 # (batch_size, vocab_size)\n",
    "    loss = F.cross_entropy(logits, Yb)\n",
    "\n",
    "    for p in parameters:\n",
    "        p.grad = None\n",
    "    loss.backward()\n",
    "    # update parameters\n",
    "    lr = 0.1 if i < int(max_steps/2) else 0.01\n",
    "    for p in parameters:\n",
    "        p.data += -lr * p.grad\n",
    "    # append loss to lossi\n",
    "    if i%10000 == 0:\n",
    "        print(f'{i:7d}/{max_steps:7d}: {loss.item():.4f}')\n",
    "    lossi.append(loss.log10().item())"
   ]
  },
  {
   "cell_type": "code",
   "execution_count": 113,
   "id": "3f6f7e4e",
   "metadata": {},
   "outputs": [],
   "source": [
    "# with torch.no_grad():\n",
    "#     #calcultae the bnmean and bnbias as stage 2\n",
    "#     emb = C[X_train]  # (batch_size, context_len, n_embd)\n",
    "#     embcat = emb.view(emb.shape[0], -1) # (batch_size, n_embd * context_len)\n",
    "#     hpreact = embcat @ W1 # + b1 # (batch_size, n_hidden)\n",
    "#     bnmean = hpreact.mean(dim=0, keepdim=True)\n",
    "#     bnstd = hpreact.std(dim=0, keepdim=True)"
   ]
  },
  {
   "cell_type": "code",
   "execution_count": 122,
   "id": "5ca07558",
   "metadata": {},
   "outputs": [
    {
     "name": "stdout",
     "output_type": "stream",
     "text": [
      "train loss: 2.0674\n",
      "test loss: 2.1057\n",
      "dev loss: 2.1070\n"
     ]
    }
   ],
   "source": [
    "@torch.no_grad()\n",
    "def split_loss(split):\n",
    "    x, y = {\n",
    "        'test' : (X_test, Y_test),\n",
    "        'train' : (X_train, Y_train),\n",
    "        'dev' : (X_dev, Y_dev)\n",
    "    }[split]\n",
    "    emb = C[x]  # (batch_size, context_len, n_embd)\n",
    "    embcat = emb.view(emb.shape[0], -1) # (batch_size, n_embd * context_len)\n",
    "    hpreact = embcat @ W1 # + b1 # (batch_size, n_hidden)\n",
    "    # adding batch normalization\n",
    "    hpreact = (hpreact - bnrunning_mean) / bnrunning_std\n",
    "    hpreact = (bngain  * hpreact) + bnbias\n",
    "    h = torch.tanh(hpreact) # (batch_size, n_hidden)\n",
    "    logits = h @ W2 + b2 # (batch_size, vocab_size)\n",
    "    loss = F.cross_entropy(logits, y)\n",
    "    print(f'{split} loss: {loss:.4f}')\n",
    "\n",
    "split_loss('train')\n",
    "split_loss('test')\n",
    "split_loss('dev')"
   ]
  },
  {
   "cell_type": "code",
   "execution_count": 117,
   "id": "777f3171",
   "metadata": {},
   "outputs": [],
   "source": [
    "# before any optimizations\n",
    "    # train loss: 2.1190\n",
    "    # test loss: 2.1607\n",
    "    # dev loss: 2.1675\n",
    "\n",
    "# Fixing the initialization of the w2 and setting b2 to zero \n",
    "    # train loss: 2.0693\n",
    "    # test loss: 2.1332\n",
    "    # dev loss: 2.1368\n",
    "\n",
    "# Fixing the oversaturation of the tanh layer by scaling down the w1 and b1\n",
    "    # train loss: 2.0343\n",
    "    # test loss: 2.1023\n",
    "    # dev loss: 2.1058\n",
    "\n",
    "# Loss after adding batch normalization\n",
    "    # train loss: 2.0668\n",
    "    # test loss: 2.1048\n",
    "    # dev loss: 2.1065\n"
   ]
  },
  {
   "cell_type": "code",
   "execution_count": 118,
   "id": "1af8cb8d",
   "metadata": {},
   "outputs": [],
   "source": [
    "# plt.figure(figsize=(10, 20))\n",
    "# plt.imshow(h.abs() > 0.99, cmap='gray', interpolation='nearest')"
   ]
  },
  {
   "cell_type": "code",
   "execution_count": 119,
   "id": "4beb25cf",
   "metadata": {},
   "outputs": [],
   "source": [
    "# h_act = h.view(-1).tolist()\n",
    "# plt.hist(h_act, bins=50);\n",
    "# hpreact_act = hpreact.view(-1).tolist()\n",
    "# # plt.hist(hpreact_act, bins=50);"
   ]
  },
  {
   "cell_type": "code",
   "execution_count": 120,
   "id": "d232af3e",
   "metadata": {},
   "outputs": [],
   "source": [
    "# plt.plot(lossi)"
   ]
  },
  {
   "cell_type": "code",
   "execution_count": 121,
   "id": "9888d680",
   "metadata": {},
   "outputs": [
    {
     "name": "stdout",
     "output_type": "stream",
     "text": [
      "carlah\n",
      "amorie\n",
      "khi\n",
      "mri\n",
      "reity\n",
      "salaysie\n",
      "mahnen\n",
      "delynn\n",
      "jareei\n",
      "ner\n"
     ]
    }
   ],
   "source": [
    "# sampling from the model\n",
    "g = torch.Generator().manual_seed(2147483647 + 10)\n",
    "for _ in range(10):\n",
    "    str = ''\n",
    "    idx = [0] * context_len\n",
    "    while True:\n",
    "        emb = C[torch.tensor([idx])]\n",
    "        embcat = emb.view(1, -1) # (batch_size, n_embd * context_len)\n",
    "        hpreact = embcat @ W1# + b1 # (batch_size, n_hidden)\n",
    "        # adding batch normalization\n",
    "        hpreact = (hpreact - bnrunning_mean) / bnrunning_std\n",
    "        hpreact = (bngain  * hpreact) + bnbias\n",
    "        h = torch.tanh(hpreact) # (batch_size, n_hidden)\n",
    "        logits = h @ W2 + b2 # (batch_size, vocab_size)\n",
    "        probs = F.softmax(logits, dim=1)\n",
    "        new_idx = torch.multinomial(probs, num_samples=1, generator=g).item()\n",
    "        if new_idx == 0:\n",
    "            break;\n",
    "        str += itos[new_idx]\n",
    "        idx = idx[1:] + [new_idx]\n",
    "    print(str)\n",
    "    "
   ]
  },
  {
   "cell_type": "code",
   "execution_count": null,
   "id": "7d4cd9e4",
   "metadata": {},
   "outputs": [],
   "source": []
  },
  {
   "cell_type": "code",
   "execution_count": null,
   "id": "47ab7804",
   "metadata": {},
   "outputs": [],
   "source": []
  },
  {
   "cell_type": "code",
   "execution_count": null,
   "id": "1abec7f1",
   "metadata": {},
   "outputs": [],
   "source": []
  }
 ],
 "metadata": {
  "kernelspec": {
   "display_name": "Python 3 (ipykernel)",
   "language": "python",
   "name": "python3"
  },
  "language_info": {
   "codemirror_mode": {
    "name": "ipython",
    "version": 3
   },
   "file_extension": ".py",
   "mimetype": "text/x-python",
   "name": "python",
   "nbconvert_exporter": "python",
   "pygments_lexer": "ipython3",
   "version": "3.11.4"
  }
 },
 "nbformat": 4,
 "nbformat_minor": 5
}
