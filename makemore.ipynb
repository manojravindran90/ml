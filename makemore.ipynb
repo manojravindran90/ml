{
 "cells": [
  {
   "cell_type": "code",
   "execution_count": 100,
   "id": "f095b14d-a51f-45f8-a3f3-096ec617225b",
   "metadata": {},
   "outputs": [],
   "source": [
    "import torch\n",
    "import matplotlib.pyplot as plt\n",
    "import torch.nn.functional as F\n",
    "import random"
   ]
  },
  {
   "cell_type": "code",
   "execution_count": 118,
   "id": "af83a448-b0d6-400c-a0f8-fc8ad6c9b13d",
   "metadata": {},
   "outputs": [],
   "source": [
    "words = open('names.txt', 'r').read().splitlines()\n",
    "chars = sorted(list(set(''.join(words))))\n",
    "stoi = {s:i+1 for i,s in enumerate(chars)}\n",
    "stoi['.'] = 0\n",
    "itos = {s:i for i,s in stoi.items()}\n",
    "vocab_size = len(stoi)"
   ]
  },
  {
   "cell_type": "code",
   "execution_count": 119,
   "id": "23e4a729",
   "metadata": {},
   "outputs": [
    {
     "name": "stdout",
     "output_type": "stream",
     "text": [
      "X_train.shape --> torch.Size([182625, 3]) Y_train.shape --> torch.Size([182625])\n",
      "X_test.shape --> torch.Size([22655, 3]) Y_test.shape --> torch.Size([22655])\n",
      "X_dev.shape --> torch.Size([22866, 3]) Y_dev.shape --> torch.Size([22866])\n"
     ]
    }
   ],
   "source": [
    "# creating the dataset\n",
    "context_len = 3\n",
    "\n",
    "def build_dataset(words):\n",
    "    X, Y = [], []\n",
    "\n",
    "    for w in words:\n",
    "        context = [0] * context_len\n",
    "        for ch in w+'.':\n",
    "            X.append(context)\n",
    "            Y.append(stoi[ch])\n",
    "            context = context[1:] + [stoi[ch]]\n",
    "    X = torch.tensor(X)\n",
    "    Y = torch.tensor(Y)\n",
    "    return X, Y\n",
    "\n",
    "# creating the test/train/validation sets\n",
    "random.seed(42)\n",
    "random.shuffle(words)\n",
    "n1 = int(0.8 * len(words))\n",
    "n2 = int(0.9 * len(words))\n",
    "\n",
    "X_train, Y_train = build_dataset(words[:n1]) # 80% of the data\n",
    "X_test, Y_test = build_dataset(words[n1:n2]) # 10% of the data\n",
    "X_dev, Y_dev = build_dataset(words[n2:]) # 10% of the data\n",
    "\n",
    "def calculate_loss():\n",
    "    return None\n",
    "\n",
    "print('X_train.shape -->', X_train.shape, 'Y_train.shape -->', Y_train.shape)\n",
    "print('X_test.shape -->', X_test.shape, 'Y_test.shape -->', Y_test.shape)\n",
    "print('X_dev.shape -->', X_dev.shape, 'Y_dev.shape -->', Y_dev.shape)\n"
   ]
  },
  {
   "cell_type": "code",
   "execution_count": 120,
   "id": "30199ab5",
   "metadata": {},
   "outputs": [],
   "source": [
    "# Make the code more pytorch like\n",
    "\n",
    "g = torch.Generator().manual_seed(2147483647)\n",
    "\n",
    "class Linear:\n",
    "    def __init__(self, n_in, n_out, bias=True):\n",
    "        self.weights = torch.randn(n_in, n_out, generator=g) / (n_in ** 0.5)\n",
    "        self.bias = torch.randn(n_out) if bias else None\n",
    "\n",
    "    def __call__(self, x):\n",
    "        self.out = x @ self.weights\n",
    "        if self.bias is not None:\n",
    "            self.out += self.bias\n",
    "        return self.out\n",
    "    \n",
    "    def parameters(self):\n",
    "        if self.bias is not None:\n",
    "            return [self.weights, self.bias]\n",
    "        else:\n",
    "            return [self.weights]\n",
    "\n",
    "\n",
    "class BatchNorm1d:\n",
    "    def __init__(self, dim, eps=1e-5, moementum=0.1):\n",
    "        self.eps = eps\n",
    "        self.moementum = moementum\n",
    "        self.training = True\n",
    "        self.running_mean = torch.zeros(dim)\n",
    "        self.running_var = torch.ones(dim)\n",
    "        self.gamma = torch.ones(dim)\n",
    "        self.beta = torch.zeros(dim)\n",
    "        return None\n",
    "    \n",
    "    def __call__(self, x):\n",
    "        if self.training:\n",
    "            xmean = x.mean(dim=0, keepdim=True)\n",
    "            xvar = x.var(dim=0, keepdim=0)\n",
    "            self.running_var = (1-self.moementum) * self.running_var + self.moementum * xvar\n",
    "            self.running_mean = (1-self.moementum) * self.running_mean + self.moementum * xvar\n",
    "        else:\n",
    "            xmean = self.running_mean\n",
    "            xvar = self.running_var\n",
    "        xhat = (x-xmean) / ((xvar + self.eps) ** 0.5)\n",
    "        self.out = (self.gamma * xhat) + self.beta\n",
    "        return self.out\n",
    "    \n",
    "    def parameters(self):\n",
    "        return [self.gamma, self.beta]\n",
    "    \n",
    "class Tanh:\n",
    "\n",
    "    def __call__(self, x):\n",
    "        self.out = torch.tanh(x)\n",
    "        return self.out\n",
    "    \n",
    "    def parameters(self):\n",
    "        return []"
   ]
  },
  {
   "cell_type": "code",
   "execution_count": 121,
   "id": "eafd74d8",
   "metadata": {},
   "outputs": [
    {
     "name": "stdout",
     "output_type": "stream",
     "text": [
      "46497\n"
     ]
    }
   ],
   "source": [
    "# network parameters\n",
    "n_embd = 10\n",
    "n_hidden = 100\n",
    "batch_size = 32\n",
    "C = torch.randn(vocab_size, n_embd, generator=g) \n",
    "\n",
    "layers = [\n",
    "    Linear(n_embd * context_len, n_hidden), Tanh(),\n",
    "    Linear(n_hidden, n_hidden), Tanh(),\n",
    "    Linear(n_hidden, n_hidden), Tanh(),\n",
    "    Linear(n_hidden, n_hidden), Tanh(),\n",
    "    Linear(n_hidden, n_hidden), Tanh(),\n",
    "    Linear(n_hidden, vocab_size),\n",
    "]\n",
    "\n",
    "# make the softmax layer less confident in its initial predictions\n",
    "with torch.no_grad():\n",
    "    layers[-1].weights *= 0.1\n",
    "# boost the linear layers before the tanh by 5/3 in order to fight the squashing\n",
    "for layer in layers[:-1]:\n",
    "    if isinstance(layer, Linear):\n",
    "        layer.weights *= 5/3\n",
    "\n",
    "parameters = [p for layer in layers for p in layer.parameters()] + [C]\n",
    "print(sum(p.nelement() for p in parameters))\n",
    "for p in parameters:\n",
    "    p.requires_grad = True\n"
   ]
  },
  {
   "cell_type": "code",
   "execution_count": 122,
   "id": "a7a9efc0",
   "metadata": {},
   "outputs": [
    {
     "name": "stdout",
     "output_type": "stream",
     "text": [
      "      0/ 200000: 3.6656\n"
     ]
    }
   ],
   "source": [
    "#model\n",
    "max_steps = 200000\n",
    "batch_size = 32\n",
    "lossi = []\n",
    "\n",
    "for i in range(max_steps):\n",
    "    #sampling the batch\n",
    "    idx = torch.randint(0 ,X_train.shape[0], (batch_size,), generator=g) # (batch_size,)\n",
    "    Xb, Yb = X_train[idx], Y_train[idx] # (batch_size, context_len), (batch_size,)\n",
    " \n",
    "    #forward pass\n",
    "    emb = C[Xb]  # (batch_size, context_len, n_embd)\n",
    "    embcat = emb.view(emb.shape[0], -1) # (batch_size, n_embd * context_len)\n",
    "    logits = embcat\n",
    "    for layer in layers:\n",
    "        logits = layer(logits)\n",
    "    loss = F.cross_entropy(logits, Yb)\n",
    "\n",
    "    #backward pass\n",
    "    for p in parameters:\n",
    "        p.grad = None\n",
    "    loss.backward()\n",
    "    \n",
    "    # update parameters\n",
    "    lr = 0.1 if i < int(max_steps/2) else 0.01\n",
    "    for p in parameters:\n",
    "        p.data += -lr * p.grad\n",
    "    # append loss to lossi\n",
    "    if i%10000 == 0:\n",
    "        print(f'{i:7d}/{max_steps:7d}: {loss.item():.4f}')\n",
    "    lossi.append(loss.log10().item())\n",
    "    break"
   ]
  },
  {
   "cell_type": "code",
   "execution_count": 106,
   "id": "3f6f7e4e",
   "metadata": {},
   "outputs": [],
   "source": [
    "# with torch.no_grad():\n",
    "#     #calcultae the bnmean and bnbias as stage 2\n",
    "#     emb = C[X_train]  # (batch_size, context_len, n_embd)\n",
    "#     embcat = emb.view(emb.shape[0], -1) # (batch_size, n_embd * context_len)\n",
    "#     hpreact = embcat @ W1 # + b1 # (batch_size, n_hidden)\n",
    "#     bnmean = hpreact.mean(dim=0, keepdim=True)\n",
    "#     bnstd = hpreact.std(dim=0, keepdim=True)"
   ]
  },
  {
   "cell_type": "code",
   "execution_count": 107,
   "id": "5ca07558",
   "metadata": {},
   "outputs": [
    {
     "name": "stdout",
     "output_type": "stream",
     "text": [
      "train loss: 1.9699\n",
      "test loss: 2.0903\n",
      "dev loss: 2.0949\n"
     ]
    }
   ],
   "source": [
    "@torch.no_grad()\n",
    "def split_loss(split):\n",
    "    x, y = {\n",
    "        'test' : (X_test, Y_test),\n",
    "        'train' : (X_train, Y_train),\n",
    "        'dev' : (X_dev, Y_dev)\n",
    "    }[split]\n",
    "    emb = C[x]  # (batch_size, context_len, n_embd)\n",
    "    embcat = emb.view(emb.shape[0], -1) # (batch_size, n_embd * context_len)\n",
    "    logits = embcat\n",
    "    for layer in layers:\n",
    "        logits = layer(logits)\n",
    "    loss = F.cross_entropy(logits, y)\n",
    "    print(f'{split} loss: {loss:.4f}')\n",
    "\n",
    "split_loss('train')\n",
    "split_loss('test')\n",
    "split_loss('dev')"
   ]
  },
  {
   "cell_type": "code",
   "execution_count": 108,
   "id": "777f3171",
   "metadata": {},
   "outputs": [],
   "source": [
    "# before any optimizations\n",
    "    # train loss: 2.1190\n",
    "    # test loss: 2.1607\n",
    "    # dev loss: 2.1675\n",
    "\n",
    "# Fixing the initialization of the w2 and setting b2 to zero \n",
    "    # train loss: 2.0693\n",
    "    # test loss: 2.1332\n",
    "    # dev loss: 2.1368\n",
    "\n",
    "# Fixing the oversaturation of the tanh layer by scaling down the w1 and b1\n",
    "    # train loss: 2.0343\n",
    "    # test loss: 2.1023\n",
    "    # dev loss: 2.1058\n",
    "\n",
    "# Loss after adding batch normalization\n",
    "    # train loss: 2.0668\n",
    "    # test loss: 2.1048\n",
    "    # dev loss: 2.1065\n"
   ]
  },
  {
   "cell_type": "code",
   "execution_count": 109,
   "id": "1af8cb8d",
   "metadata": {},
   "outputs": [],
   "source": [
    "# plt.figure(figsize=(10, 20))\n",
    "# plt.imshow(h.abs() > 0.99, cmap='gray', interpolation='nearest')"
   ]
  },
  {
   "cell_type": "code",
   "execution_count": 110,
   "id": "4beb25cf",
   "metadata": {},
   "outputs": [],
   "source": [
    "# h_act = h.view(-1).tolist()\n",
    "# plt.hist(h_act, bins=50);\n",
    "# hpreact_act = hpreact.view(-1).tolist()\n",
    "# # plt.hist(hpreact_act, bins=50);"
   ]
  },
  {
   "cell_type": "code",
   "execution_count": 111,
   "id": "d232af3e",
   "metadata": {},
   "outputs": [],
   "source": [
    "# plt.plot(lossi)"
   ]
  },
  {
   "cell_type": "code",
   "execution_count": 117,
   "id": "9888d680",
   "metadata": {},
   "outputs": [
    {
     "name": "stdout",
     "output_type": "stream",
     "text": [
      "carmahea\n",
      "brielle\n",
      "jerli\n",
      "thty\n",
      "skanden\n",
      "jenontla\n",
      "merrit\n",
      "kaqhiuoranni\n",
      "jameihvin\n",
      "legy\n"
     ]
    }
   ],
   "source": [
    "# sampling from the model\n",
    "g = torch.Generator().manual_seed(2147483647 + 10)\n",
    "for _ in range(10):\n",
    "    str = ''\n",
    "    idx = [0] * context_len\n",
    "    while True:\n",
    "        emb = C[torch.tensor([idx])]\n",
    "        embcat = emb.view(1, -1) # (batch_size, n_embd * context_len)\n",
    "        hpreact = embcat @ W1# + b1 # (batch_size, n_hidden)\n",
    "        # adding batch normalization\n",
    "        hpreact = (hpreact - bnrunning_mean) / bnrunning_std\n",
    "        hpreact = (bngain  * hpreact) + bnbias\n",
    "        h = torch.tanh(hpreact) # (batch_size, n_hidden)\n",
    "        logits = h @ W2 + b2 # (batch_size, vocab_size)\n",
    "        probs = F.softmax(logits, dim=1)\n",
    "        new_idx = torch.multinomial(probs, num_samples=1, generator=g).item()\n",
    "        if new_idx == 0:\n",
    "            break;\n",
    "        str += itos[new_idx]\n",
    "        idx = idx[1:] + [new_idx]\n",
    "    print(str)\n",
    "    "
   ]
  },
  {
   "cell_type": "code",
   "execution_count": null,
   "id": "7d4cd9e4",
   "metadata": {},
   "outputs": [],
   "source": []
  },
  {
   "cell_type": "code",
   "execution_count": null,
   "id": "47ab7804",
   "metadata": {},
   "outputs": [],
   "source": []
  },
  {
   "cell_type": "code",
   "execution_count": null,
   "id": "1abec7f1",
   "metadata": {},
   "outputs": [],
   "source": []
  }
 ],
 "metadata": {
  "kernelspec": {
   "display_name": "Python 3 (ipykernel)",
   "language": "python",
   "name": "python3"
  },
  "language_info": {
   "codemirror_mode": {
    "name": "ipython",
    "version": 3
   },
   "file_extension": ".py",
   "mimetype": "text/x-python",
   "name": "python",
   "nbconvert_exporter": "python",
   "pygments_lexer": "ipython3",
   "version": "3.11.4"
  }
 },
 "nbformat": 4,
 "nbformat_minor": 5
}
