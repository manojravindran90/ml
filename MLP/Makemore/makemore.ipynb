{
 "cells": [
  {
   "cell_type": "code",
   "execution_count": 30,
   "id": "f095b14d-a51f-45f8-a3f3-096ec617225b",
   "metadata": {},
   "outputs": [],
   "source": [
    "import torch\n",
    "import matplotlib.pyplot as plt\n",
    "import torch.nn.functional as F\n",
    "import random"
   ]
  },
  {
   "cell_type": "code",
   "execution_count": 31,
   "id": "af83a448-b0d6-400c-a0f8-fc8ad6c9b13d",
   "metadata": {},
   "outputs": [],
   "source": [
    "words = open('names.txt', 'r').read().splitlines()\n",
    "chars = sorted(list(set(''.join(words))))\n",
    "stoi = {s:i+1 for i,s in enumerate(chars)}\n",
    "stoi['.'] = 0\n",
    "itos = {s:i for i,s in stoi.items()}\n",
    "vocab_size = len(stoi)"
   ]
  },
  {
   "cell_type": "code",
   "execution_count": 32,
   "id": "23e4a729",
   "metadata": {},
   "outputs": [
    {
     "name": "stdout",
     "output_type": "stream",
     "text": [
      "X_train.shape --> torch.Size([182625, 3]) Y_train.shape --> torch.Size([182625])\n",
      "X_test.shape --> torch.Size([22655, 3]) Y_test.shape --> torch.Size([22655])\n",
      "X_dev.shape --> torch.Size([22866, 3]) Y_dev.shape --> torch.Size([22866])\n"
     ]
    }
   ],
   "source": [
    "# creating the dataset\n",
    "context_len = 3\n",
    "\n",
    "def build_dataset(words):\n",
    "    X, Y = [], []\n",
    "    for w in words:\n",
    "        context = [0] * context_len\n",
    "        for ch in w+'.':\n",
    "            X.append(context)\n",
    "            Y.append(stoi[ch])\n",
    "            context = context[1:] + [stoi[ch]]\n",
    "    X = torch.tensor(X)\n",
    "    Y = torch.tensor(Y)\n",
    "    return X, Y\n",
    "\n",
    "# creating the test/train/validation sets\n",
    "random.seed(42)\n",
    "random.shuffle(words)\n",
    "n1 = int(0.8 * len(words))\n",
    "n2 = int(0.9 * len(words))\n",
    "\n",
    "X_train, Y_train = build_dataset(words[:n1]) # 80% of the data\n",
    "X_test, Y_test = build_dataset(words[n1:n2]) # 10% of the data\n",
    "X_dev, Y_dev = build_dataset(words[n2:]) # 10% of the data\n",
    "\n",
    "print('X_train.shape -->', X_train.shape, 'Y_train.shape -->', Y_train.shape)\n",
    "print('X_test.shape -->', X_test.shape, 'Y_test.shape -->', Y_test.shape)\n",
    "print('X_dev.shape -->', X_dev.shape, 'Y_dev.shape -->', Y_dev.shape)"
   ]
  },
  {
   "cell_type": "code",
   "execution_count": 33,
   "id": "30199ab5",
   "metadata": {},
   "outputs": [],
   "source": [
    "# Class Definition for Linear, BatchNorm and Tanh layers, made to look like pytorch's\n",
    "class Linear:\n",
    "    def __init__(self, n_in, n_out, bias=True):\n",
    "        self.weights = torch.randn(n_in, n_out) / (n_in ** 0.5)\n",
    "        self.bias = torch.zeros(n_out) if bias else None\n",
    "\n",
    "    def __call__(self, x):\n",
    "        self.out = x @ self.weights\n",
    "        if self.bias is not None:\n",
    "            self.out += self.bias\n",
    "        return self.out\n",
    "    \n",
    "    def parameters(self):\n",
    "        if self.bias is not None:\n",
    "            return [self.weights, self.bias]\n",
    "        else:\n",
    "            return [self.weights]\n",
    "\n",
    "class BatchNorm1d:\n",
    "    def __init__(self, dim, eps=1e-5, moementum=0.1):\n",
    "        self.eps = eps\n",
    "        self.moementum = moementum\n",
    "        self.training = True\n",
    "        self.running_mean = torch.zeros(dim)\n",
    "        self.running_var = torch.ones(dim)\n",
    "        self.gamma = torch.ones(dim)\n",
    "        self.beta = torch.zeros(dim)\n",
    "    \n",
    "    def __call__(self, x):\n",
    "        if self.training:\n",
    "            xmean = x.mean(dim=0, keepdim=True)\n",
    "            xvar = x.var(dim=0, keepdim=True)\n",
    "            with torch.no_grad():\n",
    "                self.running_var = (1-self.moementum) * self.running_var + self.moementum * xvar\n",
    "                self.running_mean = (1-self.moementum) * self.running_mean + self.moementum * xmean\n",
    "        else:\n",
    "            xmean = self.running_mean\n",
    "            xvar = self.running_var\n",
    "        xhat = (x-xmean) / torch.sqrt(xvar + self.eps)\n",
    "        self.out = (self.gamma * xhat) + self.beta\n",
    "        return self.out\n",
    "    \n",
    "    def parameters(self):\n",
    "        return [self.gamma, self.beta]\n",
    "    \n",
    "class Tanh:\n",
    "    def __call__(self, x):\n",
    "        self.out = torch.tanh(x)\n",
    "        return self.out\n",
    "    \n",
    "    def parameters(self):\n",
    "        return []"
   ]
  },
  {
   "cell_type": "code",
   "execution_count": 34,
   "id": "eafd74d8",
   "metadata": {},
   "outputs": [
    {
     "name": "stdout",
     "output_type": "stream",
     "text": [
      "12097\n"
     ]
    }
   ],
   "source": [
    "# network parameters\n",
    "n_embd = 10\n",
    "n_hidden = 200\n",
    "batch_size = 32\n",
    "\n",
    "C = torch.randn(vocab_size, n_embd) \n",
    "layers = [\n",
    "    Linear(n_embd * context_len, n_hidden, bias=False), BatchNorm1d(n_hidden), Tanh(),\n",
    "    Linear(n_hidden, vocab_size)\n",
    "]\n",
    "\n",
    "# make the softmax layer less confident in its initial predictions\n",
    "with torch.no_grad():\n",
    "    layers[-1].weights *= 0.1\n",
    "# boost the linear layers before the tanh by 5/3 in order to fight the squashing from tanh\n",
    "for layer in layers[:-1]:\n",
    "    if isinstance(layer, Linear):\n",
    "        layer.weights *= 5/3\n",
    "\n",
    "parameters = [C] + [p for layer in layers for p in layer.parameters()]\n",
    "print(sum(p.nelement() for p in parameters))\n",
    "for p in parameters:\n",
    "    p.requires_grad = True"
   ]
  },
  {
   "cell_type": "code",
   "execution_count": 35,
   "id": "a7a9efc0",
   "metadata": {},
   "outputs": [
    {
     "name": "stdout",
     "output_type": "stream",
     "text": [
      "      0/ 200000: 3.3063\n",
      "  10000/ 200000: 2.2100\n",
      "  20000/ 200000: 2.5027\n",
      "  30000/ 200000: 1.9844\n",
      "  40000/ 200000: 2.0302\n",
      "  50000/ 200000: 1.9572\n",
      "  60000/ 200000: 2.3126\n",
      "  70000/ 200000: 2.1360\n",
      "  80000/ 200000: 2.4843\n",
      "  90000/ 200000: 2.5515\n",
      " 100000/ 200000: 2.4143\n",
      " 110000/ 200000: 2.5880\n",
      " 120000/ 200000: 1.9708\n",
      " 130000/ 200000: 1.7168\n",
      " 140000/ 200000: 1.9382\n",
      " 150000/ 200000: 2.1780\n",
      " 160000/ 200000: 2.2694\n",
      " 170000/ 200000: 1.5908\n",
      " 180000/ 200000: 1.9769\n",
      " 190000/ 200000: 1.7671\n"
     ]
    }
   ],
   "source": [
    "#model\n",
    "max_steps = 200000\n",
    "batch_size = 32\n",
    "lossi = []\n",
    "ud = [] # update to data ratio\n",
    "\n",
    "for i in range(max_steps):\n",
    "    #sampling the batch\n",
    "    idx = torch.randint(0 ,X_train.shape[0], (batch_size,)) # (batch_size,)\n",
    "    Xb, Yb = X_train[idx], Y_train[idx] # (batch_size, context_len), (batch_size,)\n",
    "\n",
    "    #forward pass\n",
    "    emb = C[Xb]  # (batch_size, context_len, n_embd)\n",
    "    embcat = emb.view(emb.shape[0], -1) # (batch_size, n_embd * context_len)\n",
    "    logits = embcat\n",
    "    for layer in layers:\n",
    "        logits = layer(logits)\n",
    "    loss = F.cross_entropy(logits, Yb)\n",
    "\n",
    "    #backward pass\n",
    "    # for layer in layers:\n",
    "    #     layer.out.retain_grad() # use this to enable visualizations\n",
    "    for p in parameters:\n",
    "        p.grad = None\n",
    "    loss.backward()\n",
    "    \n",
    "    # update parameters\n",
    "    lr = 0.1 if i < int(max_steps/2) else 0.01\n",
    "    for p in parameters:\n",
    "        p.data += -lr * p.grad\n",
    "    # append loss to lossi\n",
    "    if i%10000 == 0:\n",
    "        print(f'{i:7d}/{max_steps:7d}: {loss.item():.4f}')\n",
    "    lossi.append(loss.log10().item())\n",
    "    #update the update:data ratio list\n",
    "    ud.append([(lr * p.grad.std() / p.data.std()).log10().item() for p in parameters])\n",
    " "
   ]
  },
  {
   "cell_type": "code",
   "execution_count": 37,
   "id": "5d4a619c",
   "metadata": {},
   "outputs": [],
   "source": [
    "# Setting non-training mode in the BatchNorm1d layer to use the calculated mean and var \n",
    "for layer in layers:\n",
    "    if isinstance(layer, BatchNorm1d):\n",
    "        layer.training = False"
   ]
  },
  {
   "cell_type": "code",
   "execution_count": 38,
   "id": "29bb00e0",
   "metadata": {},
   "outputs": [
    {
     "name": "stdout",
     "output_type": "stream",
     "text": [
      "train loss: 2.0683\n",
      "test loss: 2.1087\n",
      "dev loss: 2.1078\n"
     ]
    }
   ],
   "source": [
    "#Calculate loss\n",
    "\n",
    "@torch.no_grad()\n",
    "def split_loss(split):\n",
    "    x, y = {\n",
    "        'test' : (X_test, Y_test),\n",
    "        'train' : (X_train, Y_train),\n",
    "        'dev' : (X_dev, Y_dev)\n",
    "    }[split]\n",
    "    emb = C[x]  # (batch_size, context_len, n_embd)\n",
    "    embcat = emb.view(emb.shape[0], -1) # (batch_size, n_embd * context_len)\n",
    "    logits = embcat\n",
    "    for layer in layers:\n",
    "        logits = layer(logits)\n",
    "    loss = F.cross_entropy(logits, y)\n",
    "    print(f'{split} loss: {loss:.4f}')\n",
    "\n",
    "split_loss('train')\n",
    "split_loss('test')\n",
    "split_loss('dev')"
   ]
  },
  {
   "cell_type": "code",
   "execution_count": 40,
   "id": "9888d680",
   "metadata": {},
   "outputs": [
    {
     "name": "stdout",
     "output_type": "stream",
     "text": [
      "yon\n",
      "matt\n",
      "grelissanes\n",
      "anayd\n",
      "amee\n",
      "nasiah\n",
      "abin\n",
      "romie\n",
      "raan\n",
      "imaruth\n"
     ]
    }
   ],
   "source": [
    "# sampling from the model\n",
    "for _ in range(10):\n",
    "    str = ''\n",
    "    idx = [0] * context_len\n",
    "    while True:\n",
    "        emb = C[torch.tensor([idx])]\n",
    "        embcat = emb.view(emb.shape[0], -1) # (batch_size, n_embd * context_len)\n",
    "        logits = embcat\n",
    "        for layer in layers:\n",
    "            logits = layer(logits)\n",
    "        probs = F.softmax(logits, dim=1)\n",
    "        new_idx = torch.multinomial(probs, num_samples=1).item()\n",
    "        if new_idx == 0:\n",
    "            break;\n",
    "        str += itos[new_idx]\n",
    "        idx = idx[1:] + [new_idx]\n",
    "    print(str)\n",
    "    "
   ]
  }
 ],
 "metadata": {
  "kernelspec": {
   "display_name": "Python 3 (ipykernel)",
   "language": "python",
   "name": "python3"
  },
  "language_info": {
   "codemirror_mode": {
    "name": "ipython",
    "version": 3
   },
   "file_extension": ".py",
   "mimetype": "text/x-python",
   "name": "python",
   "nbconvert_exporter": "python",
   "pygments_lexer": "ipython3",
   "version": "3.11.4"
  }
 },
 "nbformat": 4,
 "nbformat_minor": 5
}
