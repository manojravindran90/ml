{
 "cells": [
  {
   "cell_type": "code",
   "execution_count": 21,
   "metadata": {},
   "outputs": [],
   "source": [
    "import math\n",
    "import random\n",
    "import numpy as np\n",
    "import matplotlib.pyplot as plt\n",
    "%matplotlib inline"
   ]
  },
  {
   "cell_type": "code",
   "execution_count": 22,
   "metadata": {},
   "outputs": [],
   "source": [
    "# Sample function\n",
    "def f(x, y):\n",
    "  return 3*x*(y**2) - 4*x*y + 5"
   ]
  },
  {
   "cell_type": "code",
   "execution_count": 23,
   "metadata": {},
   "outputs": [
    {
     "name": "stdout",
     "output_type": "stream",
     "text": [
      "170\n",
      "109.21616729005402\n",
      "70.21341469160555\n",
      "45.332532759794\n",
      "29.344064538489604\n",
      "19.163207904808953\n",
      "12.60604923691255\n",
      "8.442596027349197\n",
      "5.751483302915453\n",
      "4.050373295532594\n",
      "2.944701181805563\n"
     ]
    }
   ],
   "source": [
    "#Forward pass and Backprop with just some basic calculus knowledge\n",
    "h = 0.001\n",
    "lr = 0.1\n",
    "\n",
    "gradient = 0\n",
    "x, y = 3,5\n",
    "print(f(x,y))\n",
    "\n",
    "for i in range(10):\n",
    "    #forward pass, used to calculate the gradient\n",
    "    #I am calculating the gradient w.r.t y assumning that x is the input and cannot be changed\n",
    "    gradient = (f(x,y+h) - f(x,y)) / h\n",
    "    # print('gradient is', gradient)\n",
    "    #backward pass, used to update the data (step)\n",
    "    y += -lr*gradient\n",
    "    #print the function output\n",
    "    print(f(x,y))\n",
    "    #zero the gradient\n",
    "    gradient = 0"
   ]
  },
  {
   "cell_type": "code",
   "execution_count": 29,
   "metadata": {},
   "outputs": [
    {
     "data": {
      "text/plain": [
       "(data 1.0, op None,\n",
       " data 4.0, op +,\n",
       " data 4.0, op +,\n",
       " data 8.0, op +,\n",
       " data 3.0, op *,\n",
       " data 3.0, op *,\n",
       " data 9.0, op *,\n",
       " data 0.3333333333333333, op /,\n",
       " data 3.0, op /,\n",
       " data 9.0, op /,\n",
       " data 0.0, op -,\n",
       " data -2.0, op -,\n",
       " data 2.0, op -)"
      ]
     },
     "execution_count": 29,
     "metadata": {},
     "output_type": "execute_result"
    }
   ],
   "source": [
    "# lets simulate pytorch data types\n",
    "# for teaching purposes,\n",
    "    # Step1: get to the point where you have the following items in the __init__ function self, data, parents=()\n",
    "    # Step2: add the operation attribute to the class, this is used to for creating topo list, used to indicate if the value is a result of some op or not\n",
    "class Value:\n",
    "\n",
    "    def __init__(self, data, parents=(), op=''):\n",
    "        self.data = data\n",
    "        self.parents = parents\n",
    "        self.op = op\n",
    "        self._backward = lambda:None\n",
    "    \n",
    "    def __add__(self, other):\n",
    "        other = other if isinstance(other, Value) else Value(other)\n",
    "        out = Value(self.data + other.data, (self, other), '+')\n",
    "        return out\n",
    "    \n",
    "    def __radd__(self, other):\n",
    "        other = Value(other)\n",
    "        out = Value(self.data + other.data, (self, other), '+')\n",
    "        return out\n",
    "    \n",
    "    def __mul__(self, other):\n",
    "        other = other if isinstance(other, Value) else Value(other)\n",
    "        out = Value(self.data * other.data, (self, other), '*')\n",
    "        def _backward():\n",
    "            pass\n",
    "        out._backward = _backward\n",
    "        return out\n",
    "    \n",
    "    def __rmul__(self, other):\n",
    "        other = Value(other)\n",
    "        out = Value(self.data * other.data, (self, other), '*')\n",
    "        return out\n",
    "    \n",
    "    def __truediv__(self, other):\n",
    "        other = other if isinstance(other, Value) else Value(other)\n",
    "        out = Value(self.data * (other.data ** -1), (self, other), '/')\n",
    "        return out\n",
    "    \n",
    "    def __rtruediv__(self, other):\n",
    "        other = Value(other)\n",
    "        out = Value(other.data * (self.data ** -1), (self, other), '/')\n",
    "        return out\n",
    "    \n",
    "    def __sub__(self, other):\n",
    "        other = other if isinstance(other, Value) else Value(other)\n",
    "        out = Value(self.data - other.data, (self, other), '-')\n",
    "        return out\n",
    "    \n",
    "    def __rsub__(self, other):\n",
    "        other = Value(other)\n",
    "        out = Value(other.data - self.data, (self, other), '-')\n",
    "        return out\n",
    "    \n",
    "    def __repr__(self):\n",
    "        return 'data ' + str(self.data) + ', op ' + (self.op  if self.op else 'None')\n",
    "\n",
    "a = Value(1.0)\n",
    "b = a + 3\n",
    "c = 3 + a\n",
    "d  = b+c\n",
    "e = 3 * a\n",
    "f = a * 3\n",
    "g  = e*f\n",
    "h = a/3\n",
    "i = 3/a\n",
    "j = i/h\n",
    "k = a-1\n",
    "l = -1-a\n",
    "m = k-l\n",
    "a,b,c,d,e,f,g,h,i,j,k,l,m"
   ]
  },
  {
   "cell_type": "code",
   "execution_count": null,
   "metadata": {},
   "outputs": [],
   "source": []
  }
 ],
 "metadata": {
  "kernelspec": {
   "display_name": "Python 3",
   "language": "python",
   "name": "python3"
  },
  "language_info": {
   "codemirror_mode": {
    "name": "ipython",
    "version": 3
   },
   "file_extension": ".py",
   "mimetype": "text/x-python",
   "name": "python",
   "nbconvert_exporter": "python",
   "pygments_lexer": "ipython3",
   "version": "3.11.4"
  }
 },
 "nbformat": 4,
 "nbformat_minor": 2
}
