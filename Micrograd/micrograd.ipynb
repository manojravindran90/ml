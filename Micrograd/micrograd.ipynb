{
 "cells": [
  {
   "cell_type": "code",
   "execution_count": 21,
   "metadata": {},
   "outputs": [],
   "source": [
    "import math\n",
    "import random\n",
    "import numpy as np\n",
    "import matplotlib.pyplot as plt\n",
    "%matplotlib inline"
   ]
  },
  {
   "cell_type": "code",
   "execution_count": 22,
   "metadata": {},
   "outputs": [],
   "source": [
    "# Sample function\n",
    "def f(x, y):\n",
    "  return 3*x*(y**2) - 4*x*y + 5"
   ]
  },
  {
   "cell_type": "code",
   "execution_count": 23,
   "metadata": {},
   "outputs": [
    {
     "name": "stdout",
     "output_type": "stream",
     "text": [
      "170\n",
      "109.21616729005402\n",
      "70.21341469160555\n",
      "45.332532759794\n",
      "29.344064538489604\n",
      "19.163207904808953\n",
      "12.60604923691255\n",
      "8.442596027349197\n",
      "5.751483302915453\n",
      "4.050373295532594\n",
      "2.944701181805563\n"
     ]
    }
   ],
   "source": [
    "#Forward pass and Backprop with just some basic calculus knowledge\n",
    "h = 0.001\n",
    "lr = 0.1\n",
    "\n",
    "gradient = 0\n",
    "x, y = 3,5\n",
    "print(f(x,y))\n",
    "\n",
    "for i in range(10):\n",
    "    #forward pass, used to calculate the gradient\n",
    "    #I am calculating the gradient w.r.t y assumning that x is the input and cannot be changed\n",
    "    gradient = (f(x,y+h) - f(x,y)) / h\n",
    "    # print('gradient is', gradient)\n",
    "    #backward pass, used to update the data (step)\n",
    "    y += -lr*gradient\n",
    "    #print the function output\n",
    "    print(f(x,y))\n",
    "    #zero the gradient\n",
    "    gradient = 0"
   ]
  },
  {
   "cell_type": "code",
   "execution_count": null,
   "metadata": {},
   "outputs": [],
   "source": []
  },
  {
   "cell_type": "code",
   "execution_count": null,
   "metadata": {},
   "outputs": [],
   "source": []
  }
 ],
 "metadata": {
  "kernelspec": {
   "display_name": "Python 3",
   "language": "python",
   "name": "python3"
  },
  "language_info": {
   "codemirror_mode": {
    "name": "ipython",
    "version": 3
   },
   "file_extension": ".py",
   "mimetype": "text/x-python",
   "name": "python",
   "nbconvert_exporter": "python",
   "pygments_lexer": "ipython3",
   "version": "3.11.4"
  }
 },
 "nbformat": 4,
 "nbformat_minor": 2
}
